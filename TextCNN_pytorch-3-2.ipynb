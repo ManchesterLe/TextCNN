{
 "cells": [
  {
   "cell_type": "markdown",
   "id": "f05f0f28",
   "metadata": {},
   "source": [
    "# 导入要使用的相关包"
   ]
  },
  {
   "cell_type": "code",
   "execution_count": 1,
   "id": "3a8aa1f7",
   "metadata": {},
   "outputs": [
    {
     "data": {
      "text/plain": [
       "device(type='cuda')"
      ]
     },
     "execution_count": 1,
     "metadata": {},
     "output_type": "execute_result"
    }
   ],
   "source": [
    "import collections\n",
    "import os\n",
    "import random\n",
    "import tarfile\n",
    "import time\n",
    "import datetime\n",
    "from tqdm.notebook import tqdm\n",
    "import pandas as pd\n",
    "import matplotlib.pyplot as plt\n",
    "\n",
    "import torch\n",
    "from torch import nn\n",
    "import torch.utils.data as Data\n",
    "import torch.nn.functional as F\n",
    "import torchtext\n",
    "import torchtext.vocab as Vocab\n",
    "import gensim\n",
    "from gensim.models import word2vec as w2v\n",
    "from gensim.models.word2vec import KeyedVectors\n",
    "import jieba\n",
    "\n",
    "from multiprocessing import Pool\n",
    "import multiprocessing\n",
    "import numpy as np\n",
    "import warnings\n",
    "warnings.filterwarnings(\"ignore\")\n",
    "\n",
    "os.environ[\"CUDA_VISIBLE_DEVICES\"] = \"0\"\n",
    "device = torch.device('cuda' if torch.cuda.is_available() else 'cpu')\n",
    "\n",
    "# 测试使用设备\n",
    "device"
   ]
  },
  {
   "cell_type": "code",
   "execution_count": 2,
   "id": "b1499f15",
   "metadata": {},
   "outputs": [],
   "source": [
    "def get_train_data(filename):\n",
    "    df=pd.read_csv(filename)\n",
    "    df=df.sample(frac=1)\n",
    "    label=df.label\n",
    "    review=df.review\n",
    "    return label,review\n",
    "\n",
    "l,r=get_train_data(\"文本分类语料.csv\")"
   ]
  },
  {
   "cell_type": "code",
   "execution_count": 3,
   "id": "4916147c",
   "metadata": {},
   "outputs": [
    {
     "data": {
      "text/plain": [
       "(2533    1\n",
       " 8492    0\n",
       " 1258    1\n",
       " 545     1\n",
       " 9164    0\n",
       " Name: label, dtype: int64,\n",
       " 2533    比我想象的快啊，才一个多小时，这两天都是两三个小时的。\n",
       " 8492                    等了好久好久好久。。。\n",
       " 1258                   送的很快，味道不错，不咸\n",
       " 545                送餐速度非常快，服务态度非常好。\n",
       " 9164      大哥，你知道你送的这是披萨吗？拖成一坨让我怎么吃？\n",
       " Name: review, dtype: object)"
      ]
     },
     "execution_count": 3,
     "metadata": {},
     "output_type": "execute_result"
    }
   ],
   "source": [
    "l.head(),r.head()"
   ]
  },
  {
   "cell_type": "code",
   "execution_count": 4,
   "id": "14f71d02",
   "metadata": {},
   "outputs": [
    {
     "data": {
      "text/plain": [
       "count    11987.000000\n",
       "mean        25.048553\n",
       "std         24.680028\n",
       "min          5.000000\n",
       "25%         11.000000\n",
       "50%         17.000000\n",
       "75%         30.000000\n",
       "max        463.000000\n",
       "Name: review, dtype: float64"
      ]
     },
     "execution_count": 4,
     "metadata": {},
     "output_type": "execute_result"
    }
   ],
   "source": [
    "r.apply(len).describe()"
   ]
  },
  {
   "cell_type": "code",
   "execution_count": 5,
   "id": "f32ae4a5",
   "metadata": {},
   "outputs": [
    {
     "data": {
      "text/plain": [
       "8544    这是儿童餐吗？饭和菜的量都少的可怜。米饭只有一小方块，装菜的格子本就不大，还只装到1/2的高...\n",
       "Name: review, dtype: object"
      ]
     },
     "execution_count": 5,
     "metadata": {},
     "output_type": "execute_result"
    }
   ],
   "source": [
    "r[r.apply(len)==463]"
   ]
  },
  {
   "cell_type": "code",
   "execution_count": 6,
   "id": "636666f4",
   "metadata": {},
   "outputs": [
    {
     "data": {
      "text/plain": [
       "'这是儿童餐吗？饭和菜的量都少的可怜。米饭只有一小方块，装菜的格子本就不大，还只装到1/2的高度其中还以菜汤为主，2个荤菜杏鲍菇肉片私自改成了窝笋肉片(实际上根本没有肉片只有三根肉丝)，所谓的奥尔良鸡排只是两片薄鸡片可怜巴巴的躺在格子底，I真是服了You!您这是20元的套餐？我当时真想拍下来传到网上让大家好好瞻仰学习一下，后来想想算了，毕竟这么多年也是你们的老客户了，给你们留点面子吧。不知道百度是怎么跟你们谈合作的，搞活动这13元是你们单独承担还是与百度分担，但无论如何菜品质量下降这么多是说不过去的，要是你们坚持说正品20元套餐就是这样的量，那恐怕活动后不会有人用原价买你们的正品了，那你们做这样的活动还有意义吗？这是专门要砸自己的招牌吗？,另外这款套餐的设计极不合理，你们16元的套餐是3荤2素米饭也比较多，20元的却是2荤2素1咸菜(这咸菜尤其鸡肋，又不是自己做的特色小菜只是普通的几根真空袋装的榨菜，既没营养又不健康而且没用——本来饭就少不用靠它下饭，被扔掉恐怕是绝大多数人的选择)饭极少，真不知道为什么还比前者贵。'"
      ]
     },
     "execution_count": 6,
     "metadata": {},
     "output_type": "execute_result"
    }
   ],
   "source": [
    "r.loc[8544]"
   ]
  },
  {
   "cell_type": "code",
   "execution_count": 7,
   "id": "69e873a3",
   "metadata": {},
   "outputs": [
    {
     "data": {
      "application/vnd.jupyter.widget-view+json": {
       "model_id": "38be691c9f70497993e108841aa5fc50",
       "version_major": 2,
       "version_minor": 0
      },
      "text/plain": [
       "jieba processing:   0%|          | 0/11987 [00:00<?, ?it/s]"
      ]
     },
     "metadata": {},
     "output_type": "display_data"
    },
    {
     "name": "stderr",
     "output_type": "stream",
     "text": [
      "Building prefix dict from the default dictionary ...\n",
      "Loading model from cache /tmp/jieba.cache\n",
      "Loading model cost 0.594 seconds.\n",
      "Prefix dict has been built successfully.\n"
     ]
    }
   ],
   "source": [
    "tqdm.pandas(desc='Jieba Processing')\n",
    "review=r.progress_apply(lambda x:jieba.lcut(str(x)))"
   ]
  },
  {
   "cell_type": "code",
   "execution_count": 8,
   "id": "cde05e3c",
   "metadata": {},
   "outputs": [],
   "source": [
    "def get_vocab():\n",
    "    tokenized_data = review.to_list()\n",
    "    counter = collections.Counter([tk for st in tokenized_data for tk in st])\n",
    "    return torchtext.vocab.vocab(counter,min_freq=0)\n",
    "vocab = get_vocab()"
   ]
  },
  {
   "cell_type": "code",
   "execution_count": 9,
   "id": "40e6e1a3",
   "metadata": {},
   "outputs": [],
   "source": [
    "max_l = 100 #设置句子最大长度，不足补零\n",
    "\n",
    "def func(listTemp, n):\n",
    "    for i in range(0, len(listTemp), n):\n",
    "        yield listTemp[i:i+n]\n",
    "        \n",
    "def pad(x):\n",
    "    return x[:max_l] if len(x) > max_l else x + [0] * (max_l - len(x))\n",
    "\n",
    "def wrap(lis):\n",
    "    return [pad([vocab_dict.get(word) for word in words]) for words in tqdm(lis)]\n",
    "\n",
    "\n",
    "\n",
    "vocab_dict=vocab.get_stoi()\n",
    "vocab_list=review.to_list()\n",
    "ret=list(func(vocab_list, int(len(vocab_list)/2)))\n",
    "with Pool(2) as p:\n",
    "    a=p.map(wrap,ret)"
   ]
  },
  {
   "cell_type": "code",
   "execution_count": 10,
   "id": "ef2262e0",
   "metadata": {},
   "outputs": [
    {
     "data": {
      "text/plain": [
       "11987"
      ]
     },
     "execution_count": 10,
     "metadata": {},
     "output_type": "execute_result"
    }
   ],
   "source": [
    "features=[]\n",
    "for lis in a:\n",
    "    features.extend(lis)\n",
    "    \n",
    "len(features)"
   ]
  },
  {
   "cell_type": "code",
   "execution_count": 11,
   "id": "b2eee0f9",
   "metadata": {},
   "outputs": [],
   "source": [
    "features = torch.tensor(features,device=device)\n",
    "\n",
    "labels = torch.tensor(l.to_list(),device=device)"
   ]
  },
  {
   "cell_type": "code",
   "execution_count": 12,
   "id": "63d25e76",
   "metadata": {},
   "outputs": [],
   "source": [
    "train_set_num=7\n",
    "test_set_num=3"
   ]
  },
  {
   "cell_type": "code",
   "execution_count": 13,
   "id": "785cbcd5",
   "metadata": {},
   "outputs": [],
   "source": [
    "batch_size = 256\n",
    "train_set_num=int(len(features)*train_set_num/10)\n",
    "\n",
    "train_set = Data.TensorDataset(features[:train_set_num,],labels[:train_set_num])\n",
    "train_iter = Data.DataLoader(train_set, batch_size)\n",
    "test_set = Data.TensorDataset(features[train_set_num:,],labels[train_set_num:])\n",
    "test_iter = Data.DataLoader(test_set, batch_size)\n"
   ]
  },
  {
   "cell_type": "code",
   "execution_count": 14,
   "id": "f54b9f80",
   "metadata": {},
   "outputs": [
    {
     "data": {
      "text/plain": [
       "[tensor([[   0,    1,    2,  ...,    0,    0,    0],\n",
       "         [  16,   17,   18,  ...,    0,    0,    0],\n",
       "         [  20,    3,   21,  ...,    0,    0,    0],\n",
       "         ...,\n",
       "         [ 770,   12, 1174,  ...,    0,    0,    0],\n",
       "         [ 526,   65,  442,  ...,    0,    0,    0],\n",
       "         [  23,   43, 1181,  ...,    0,    0,    0]], device='cuda:0'),\n",
       " tensor([1, 0, 1, 1, 0, 0, 0, 0, 0, 0, 0, 0, 0, 0, 0, 1, 0, 0, 1, 0, 0, 1, 0, 0,\n",
       "         1, 1, 1, 1, 0, 0, 1, 1, 0, 1, 1, 0, 0, 0, 0, 0, 0, 0, 0, 0, 1, 0, 0, 0,\n",
       "         0, 1, 0, 0, 0, 1, 1, 0, 0, 1, 0, 1, 0, 0, 0, 0, 0, 1, 0, 0, 1, 0, 0, 0,\n",
       "         1, 0, 0, 0, 1, 0, 1, 0, 0, 1, 1, 1, 0, 0, 0, 0, 1, 0, 0, 0, 0, 0, 0, 0,\n",
       "         1, 0, 0, 1, 0, 0, 1, 0, 0, 1, 0, 0, 1, 0, 1, 0, 0, 0, 0, 1, 1, 1, 0, 0,\n",
       "         0, 0, 0, 1, 0, 1, 0, 1, 1, 1, 0, 1, 0, 0, 1, 1, 1, 0, 0, 0, 0, 1, 0, 0,\n",
       "         0, 1, 1, 0, 0, 0, 0, 0, 0, 0, 1, 0, 1, 0, 0, 0, 1, 0, 0, 0, 0, 0, 0, 0,\n",
       "         1, 1, 0, 0, 1, 0, 0, 1, 1, 0, 0, 1, 0, 1, 1, 0, 0, 0, 1, 0, 0, 1, 0, 0,\n",
       "         0, 0, 0, 0, 1, 0, 0, 0, 0, 0, 0, 1, 1, 0, 1, 0, 0, 0, 0, 1, 0, 0, 1, 1,\n",
       "         1, 0, 0, 1, 0, 1, 0, 0, 1, 0, 1, 0, 0, 0, 0, 0, 1, 0, 1, 0, 1, 1, 0, 0,\n",
       "         0, 0, 0, 0, 0, 0, 0, 0, 1, 1, 1, 1, 0, 0, 1, 0], device='cuda:0')]"
      ]
     },
     "execution_count": 14,
     "metadata": {},
     "output_type": "execute_result"
    }
   ],
   "source": [
    "next(iter(train_iter))"
   ]
  },
  {
   "cell_type": "code",
   "execution_count": 15,
   "id": "85d456ad",
   "metadata": {},
   "outputs": [
    {
     "name": "stdout",
     "output_type": "stream",
     "text": [
      "0: 我想象的快啊，才一个多小时，这两天都是两三个小时的。\n",
      "1: 等了好久好久好久。。。\n",
      "2: 送的很快，味道不错，不咸\n",
      "3: 送餐速度非常快，服务态度非常好。\n",
      "4: 大哥，你知道你送的这是披萨吗？拖成一坨让我怎么吃？\n"
     ]
    }
   ],
   "source": [
    "new_dict1 = dict(zip(vocab_dict.values(), vocab_dict.keys()))\n",
    "\n",
    "for i in range(5):\n",
    "    sen=\"\"\n",
    "    for token in next(iter(train_iter))[0][i].tolist():\n",
    "\n",
    "        if(token!=0):\n",
    "            sen+=new_dict1.get(token)\n",
    "\n",
    "    print(f\"{i}: \"+sen)"
   ]
  },
  {
   "cell_type": "code",
   "execution_count": 16,
   "id": "ba9c7348",
   "metadata": {},
   "outputs": [
    {
     "name": "stdout",
     "output_type": "stream",
     "text": [
      "模型加载耗时：0:00:42.95 s\n"
     ]
    }
   ],
   "source": [
    "nowtime = datetime.datetime.now()\n",
    "model = KeyedVectors.load_word2vec_format(\"sgns.renmin.word\", binary=False)\n",
    "readtime = datetime.datetime.now()\n",
    "print(f\"模型加载耗时：{str(readtime-nowtime)[:-3]} s\")"
   ]
  },
  {
   "cell_type": "code",
   "execution_count": 17,
   "id": "ef2a8352",
   "metadata": {},
   "outputs": [],
   "source": [
    "class GlobalMaxPool1d(nn.Module):\n",
    "    def __init__(self):\n",
    "        super(GlobalMaxPool1d, self).__init__()\n",
    "    def forward(self, x):\n",
    "        return F.max_pool1d(x, kernel_size=x.shape[2])\n"
   ]
  },
  {
   "cell_type": "code",
   "execution_count": 18,
   "id": "aec22cf8",
   "metadata": {},
   "outputs": [],
   "source": [
    "class TextCNN(nn.Module):     \n",
    "    def __init__(self, vocab, embed_size, kernel_sizes, num_channels):\n",
    "        super(TextCNN, self).__init__()        \n",
    "        \n",
    "        self.embedding = nn.Embedding(len(vocab), embed_size)\n",
    "        # 不参与训练的嵌⼊层        \n",
    "        self.constant_embedding = nn.Embedding(len(vocab), embed_size)   \n",
    "        \n",
    "        # 创建多个⼀维卷积层  \n",
    "        self.convs = nn.ModuleList() \n",
    "        for c, k in zip(num_channels, kernel_sizes):\n",
    "            self.convs.append(nn.Conv1d(in_channels = 2*embed_size, out_channels = c, kernel_size = k))\n",
    "        \n",
    "        # 时序最⼤池化层没有权重，所以可以共⽤⼀个实例\n",
    "        self.pool = GlobalMaxPool1d() \n",
    "        \n",
    "        self.dropout = nn.Dropout(0.5)\n",
    "        \n",
    "        self.decoder = nn.Linear(sum(num_channels), 2)\n",
    "        \n",
    "        \n",
    "    def forward(self, inputs):\n",
    "        # 将两个形状是(批量⼤⼩, 词数, 词向量维度)的嵌⼊层的输出按词向量连结\n",
    "        embeddings = torch.cat((self.embedding(inputs),self.constant_embedding(inputs)), dim=2) # (batch, seq_len, 2*embed_size)    \n",
    "       \n",
    "        # 根据Conv1D要求的输⼊格式，将词向量维，即⼀维卷积层的通道维(即词向量那⼀维)，变换到前⼀维\n",
    "        embeddings = embeddings.permute(0, 2, 1)\n",
    "        \n",
    "        # 对于每个⼀维卷积层，在时序最⼤池化后会得到⼀个形状为(批量⼤⼩, 通道⼤⼩, 1)的Tensor\n",
    "        # 使⽤flatten函数去掉最后⼀维，然后在通道维上连结\n",
    "        encoding = torch.cat([self.pool(F.relu(conv(embeddings))).squeeze(-1) for conv in self.convs], dim=1)\n",
    "        \n",
    "        # 应⽤丢弃法后使⽤全连接层得到输出\n",
    "        outputs = self.decoder(self.dropout(encoding))\n",
    "        return outputs\n"
   ]
  },
  {
   "cell_type": "code",
   "execution_count": 49,
   "id": "a70917a0",
   "metadata": {},
   "outputs": [],
   "source": [
    "embed_size,  kernel_sizes, nums_channels = 300, [3, 4, 5], [300, 300, 300] \n",
    "net = TextCNN(vocab, embed_size, kernel_sizes, nums_channels).to(device=device)"
   ]
  },
  {
   "cell_type": "code",
   "execution_count": 50,
   "id": "1d4a4bb0",
   "metadata": {},
   "outputs": [
    {
     "data": {
      "application/vnd.jupyter.widget-view+json": {
       "model_id": "5f38673605734dc9a3265cd733a72c5c",
       "version_major": 2,
       "version_minor": 0
      },
      "text/plain": [
       "  0%|          | 0/11008 [00:00<?, ?it/s]"
      ]
     },
     "metadata": {},
     "output_type": "display_data"
    },
    {
     "name": "stdout",
     "output_type": "stream",
     "text": [
      "There are 3482 oov words.\n"
     ]
    },
    {
     "data": {
      "application/vnd.jupyter.widget-view+json": {
       "model_id": "7417e11b828d4b9190d8114af260d03f",
       "version_major": 2,
       "version_minor": 0
      },
      "text/plain": [
       "  0%|          | 0/11008 [00:00<?, ?it/s]"
      ]
     },
     "metadata": {},
     "output_type": "display_data"
    },
    {
     "name": "stdout",
     "output_type": "stream",
     "text": [
      "There are 3482 oov words.\n"
     ]
    }
   ],
   "source": [
    "def load_pretrained_embedding(words):\n",
    "    \"\"\"从预训练好的vocab中提取出words对应的词向量\"\"\"\n",
    "    \n",
    "    embed = torch.zeros(len(words),300) # 初始化为0\n",
    "    oov_count = 0 # out of vocabulary\n",
    "    for i, word in tqdm(enumerate(words),total=(len(words))):\n",
    "        try:\n",
    "            embed[i, :] = torch.from_numpy(model[word])\n",
    "        except KeyError:\n",
    "            oov_count += 1\n",
    "    if oov_count > 0:\n",
    "        print(\"There are %d oov words.\"%oov_count)\n",
    "    return embed\n",
    "\n",
    "net.embedding.weight.data.copy_(load_pretrained_embedding(vocab.get_stoi()))\n",
    "net.constant_embedding.weight.data.copy_(load_pretrained_embedding(vocab.get_stoi()))\n",
    "net.constant_embedding.weight.requires_grad = False\n"
   ]
  },
  {
   "cell_type": "code",
   "execution_count": 32,
   "id": "51a32771",
   "metadata": {},
   "outputs": [],
   "source": [
    "# 评价函数\n",
    "def evaluate_accuracy(data_iter, net, device = torch.device('cuda' if torch.cuda.is_available() else 'cpu')):\n",
    "    acc_sum, n = 0.0, 0\n",
    "    with torch.no_grad():\n",
    "        for X, y in data_iter:\n",
    "            if isinstance(net, torch.nn.Module):\n",
    "                net.eval() # 评估模式， 会关闭dropout\n",
    "                acc_sum += (net(X).argmax(dim=1) == y).float().sum().item()\n",
    "                net.train() # 改回训练模式\n",
    "            else:\n",
    "                if ('is_training' in net.__code__.co_varnames):\n",
    "                    # 如果有is_training这个参数将is_training设置成False\n",
    "                    acc_sum += (net(X, is_training = False).argmax(dim=1) == y).float().sum().item()\n",
    "                else:\n",
    "                    acc_sum += (net(X).argmax(dim=1) == y).float().sum().item()\n",
    "            n += y.shape[0]\n",
    "    return acc_sum / n\n"
   ]
  },
  {
   "cell_type": "code",
   "execution_count": 47,
   "id": "0e931dbf",
   "metadata": {},
   "outputs": [],
   "source": [
    "train_acc_array=[]\n",
    "test_acc_array=[]\n",
    "loss_array=[]"
   ]
  },
  {
   "cell_type": "code",
   "execution_count": 23,
   "id": "97f28dcc",
   "metadata": {},
   "outputs": [],
   "source": [
    "def train(train_iter, test_iter, net, loss, optimizer, device, num_epochs):\n",
    "    epochs=tqdm(range(num_epochs))\n",
    "    for i,epoch in enumerate(epochs):\n",
    "        epochs.set_description(\"Total\")\n",
    "        \n",
    "        train_acc_sum, sum_l, start, n, batch_count = 0.0, 0.0, time.time(), 0, 0\n",
    "        pbar=tqdm(train_iter,desc=\"training\")\n",
    "        for X, y in pbar:\n",
    "            out = net(X)\n",
    "            l = loss(out,y)\n",
    "            optimizer.zero_grad()\n",
    "            l.backward()\n",
    "            optimizer.step()\n",
    "            sum_l += l.item()\n",
    "            n += y.shape[0]\n",
    "            batch_count += 1\n",
    "            train_acc_sum += (out.argmax(dim=1) == y).float().sum().item()\n",
    "            \n",
    "            \n",
    "        test_acc = evaluate_accuracy(test_iter, net)\n",
    "        train_acc_array.append(train_acc_sum / n)\n",
    "        test_acc_array.append(test_acc)\n",
    "        loss_array.append(sum_l / batch_count)\n",
    "        \n",
    "        print('epoch %d, loss %.4f, train_acc %.3f, test acc %.3f, time %.1f sec'\n",
    "             % (epoch + 1, sum_l / batch_count, train_acc_sum / n, test_acc, time.time() - start ))"
   ]
  },
  {
   "cell_type": "markdown",
   "id": "e8bb5626",
   "metadata": {},
   "source": [
    "# 开始训练"
   ]
  },
  {
   "cell_type": "code",
   "execution_count": 29,
   "id": "9bfb3008",
   "metadata": {},
   "outputs": [
    {
     "data": {
      "text/plain": [
       "TextCNN(\n",
       "  (embedding): Embedding(11008, 300)\n",
       "  (constant_embedding): Embedding(11008, 300)\n",
       "  (convs): ModuleList(\n",
       "    (0): Conv1d(600, 300, kernel_size=(3,), stride=(1,))\n",
       "    (1): Conv1d(600, 300, kernel_size=(4,), stride=(1,))\n",
       "    (2): Conv1d(600, 300, kernel_size=(5,), stride=(1,))\n",
       "  )\n",
       "  (pool): GlobalMaxPool1d()\n",
       "  (dropout): Dropout(p=0.5, inplace=False)\n",
       "  (decoder): Linear(in_features=900, out_features=2, bias=True)\n",
       ")"
      ]
     },
     "execution_count": 29,
     "metadata": {},
     "output_type": "execute_result"
    }
   ],
   "source": [
    "net"
   ]
  },
  {
   "cell_type": "code",
   "execution_count": 40,
   "id": "7427bdde",
   "metadata": {},
   "outputs": [
    {
     "data": {
      "application/vnd.jupyter.widget-view+json": {
       "model_id": "6d401e74bddc4defb6c8f9d18de1e9ec",
       "version_major": 2,
       "version_minor": 0
      },
      "text/plain": [
       "  0%|          | 0/20 [00:00<?, ?it/s]"
      ]
     },
     "metadata": {},
     "output_type": "display_data"
    },
    {
     "data": {
      "application/vnd.jupyter.widget-view+json": {
       "model_id": "8241ebd1d9b34c35a9e86d2dc03ee062",
       "version_major": 2,
       "version_minor": 0
      },
      "text/plain": [
       "training:   0%|          | 0/33 [00:00<?, ?it/s]"
      ]
     },
     "metadata": {},
     "output_type": "display_data"
    },
    {
     "name": "stdout",
     "output_type": "stream",
     "text": [
      "epoch 1, loss 3.4910, train_acc 0.737, test acc 0.838, time 3.9 sec\n"
     ]
    },
    {
     "data": {
      "application/vnd.jupyter.widget-view+json": {
       "model_id": "7df695ffe4cb445e8121475cb98cd3f5",
       "version_major": 2,
       "version_minor": 0
      },
      "text/plain": [
       "training:   0%|          | 0/33 [00:00<?, ?it/s]"
      ]
     },
     "metadata": {},
     "output_type": "display_data"
    },
    {
     "name": "stdout",
     "output_type": "stream",
     "text": [
      "epoch 2, loss 0.4282, train_acc 0.872, test acc 0.869, time 3.8 sec\n"
     ]
    },
    {
     "data": {
      "application/vnd.jupyter.widget-view+json": {
       "model_id": "8a9a1581e764472696a845cff22eb599",
       "version_major": 2,
       "version_minor": 0
      },
      "text/plain": [
       "training:   0%|          | 0/33 [00:00<?, ?it/s]"
      ]
     },
     "metadata": {},
     "output_type": "display_data"
    },
    {
     "name": "stdout",
     "output_type": "stream",
     "text": [
      "epoch 3, loss 0.2150, train_acc 0.933, test acc 0.864, time 3.8 sec\n"
     ]
    },
    {
     "data": {
      "application/vnd.jupyter.widget-view+json": {
       "model_id": "3a3bb9795ec44221ae7a40c8cb39ec84",
       "version_major": 2,
       "version_minor": 0
      },
      "text/plain": [
       "training:   0%|          | 0/33 [00:00<?, ?it/s]"
      ]
     },
     "metadata": {},
     "output_type": "display_data"
    },
    {
     "name": "stdout",
     "output_type": "stream",
     "text": [
      "epoch 4, loss 0.1185, train_acc 0.959, test acc 0.868, time 3.9 sec\n"
     ]
    },
    {
     "data": {
      "application/vnd.jupyter.widget-view+json": {
       "model_id": "daa1f705c0a04274bebc3016d52ff8d1",
       "version_major": 2,
       "version_minor": 0
      },
      "text/plain": [
       "training:   0%|          | 0/33 [00:00<?, ?it/s]"
      ]
     },
     "metadata": {},
     "output_type": "display_data"
    },
    {
     "name": "stdout",
     "output_type": "stream",
     "text": [
      "epoch 5, loss 0.1028, train_acc 0.967, test acc 0.853, time 3.9 sec\n"
     ]
    },
    {
     "data": {
      "application/vnd.jupyter.widget-view+json": {
       "model_id": "83958d3ce61649dc8c130c3882ce5a9e",
       "version_major": 2,
       "version_minor": 0
      },
      "text/plain": [
       "training:   0%|          | 0/33 [00:00<?, ?it/s]"
      ]
     },
     "metadata": {},
     "output_type": "display_data"
    },
    {
     "name": "stdout",
     "output_type": "stream",
     "text": [
      "epoch 6, loss 0.1036, train_acc 0.967, test acc 0.856, time 3.9 sec\n"
     ]
    },
    {
     "data": {
      "application/vnd.jupyter.widget-view+json": {
       "model_id": "6d40141c29ca4dd2a94ed9bf5b707497",
       "version_major": 2,
       "version_minor": 0
      },
      "text/plain": [
       "training:   0%|          | 0/33 [00:00<?, ?it/s]"
      ]
     },
     "metadata": {},
     "output_type": "display_data"
    },
    {
     "name": "stdout",
     "output_type": "stream",
     "text": [
      "epoch 7, loss 0.1680, train_acc 0.958, test acc 0.859, time 3.9 sec\n"
     ]
    },
    {
     "data": {
      "application/vnd.jupyter.widget-view+json": {
       "model_id": "d110b53b473a48b1aabbd87fa8d5242c",
       "version_major": 2,
       "version_minor": 0
      },
      "text/plain": [
       "training:   0%|          | 0/33 [00:00<?, ?it/s]"
      ]
     },
     "metadata": {},
     "output_type": "display_data"
    },
    {
     "name": "stdout",
     "output_type": "stream",
     "text": [
      "epoch 8, loss 0.1990, train_acc 0.957, test acc 0.853, time 3.9 sec\n"
     ]
    },
    {
     "data": {
      "application/vnd.jupyter.widget-view+json": {
       "model_id": "c7be8e8f603e412fab6c40487d04e18a",
       "version_major": 2,
       "version_minor": 0
      },
      "text/plain": [
       "training:   0%|          | 0/33 [00:00<?, ?it/s]"
      ]
     },
     "metadata": {},
     "output_type": "display_data"
    },
    {
     "name": "stdout",
     "output_type": "stream",
     "text": [
      "epoch 9, loss 0.2532, train_acc 0.950, test acc 0.863, time 3.9 sec\n"
     ]
    },
    {
     "data": {
      "application/vnd.jupyter.widget-view+json": {
       "model_id": "29cf7563df844f0b8264e37c0723dde9",
       "version_major": 2,
       "version_minor": 0
      },
      "text/plain": [
       "training:   0%|          | 0/33 [00:00<?, ?it/s]"
      ]
     },
     "metadata": {},
     "output_type": "display_data"
    },
    {
     "name": "stdout",
     "output_type": "stream",
     "text": [
      "epoch 10, loss 0.2907, train_acc 0.953, test acc 0.849, time 3.9 sec\n"
     ]
    },
    {
     "data": {
      "application/vnd.jupyter.widget-view+json": {
       "model_id": "9a22aabfaeeb48279fe4e2ceacb215f7",
       "version_major": 2,
       "version_minor": 0
      },
      "text/plain": [
       "training:   0%|          | 0/33 [00:00<?, ?it/s]"
      ]
     },
     "metadata": {},
     "output_type": "display_data"
    },
    {
     "name": "stdout",
     "output_type": "stream",
     "text": [
      "epoch 11, loss 0.1779, train_acc 0.965, test acc 0.857, time 3.9 sec\n"
     ]
    },
    {
     "data": {
      "application/vnd.jupyter.widget-view+json": {
       "model_id": "27068ce907ea407fad6521c7f37489cd",
       "version_major": 2,
       "version_minor": 0
      },
      "text/plain": [
       "training:   0%|          | 0/33 [00:00<?, ?it/s]"
      ]
     },
     "metadata": {},
     "output_type": "display_data"
    },
    {
     "name": "stdout",
     "output_type": "stream",
     "text": [
      "epoch 12, loss 0.0986, train_acc 0.977, test acc 0.864, time 3.9 sec\n"
     ]
    },
    {
     "data": {
      "application/vnd.jupyter.widget-view+json": {
       "model_id": "3ee9f1261b8649a7b59d5d0dae0e2a22",
       "version_major": 2,
       "version_minor": 0
      },
      "text/plain": [
       "training:   0%|          | 0/33 [00:00<?, ?it/s]"
      ]
     },
     "metadata": {},
     "output_type": "display_data"
    },
    {
     "name": "stdout",
     "output_type": "stream",
     "text": [
      "epoch 13, loss 0.0938, train_acc 0.980, test acc 0.847, time 4.0 sec\n"
     ]
    },
    {
     "data": {
      "application/vnd.jupyter.widget-view+json": {
       "model_id": "b4f8125edc1c42748aae06495825e7e4",
       "version_major": 2,
       "version_minor": 0
      },
      "text/plain": [
       "training:   0%|          | 0/33 [00:00<?, ?it/s]"
      ]
     },
     "metadata": {},
     "output_type": "display_data"
    },
    {
     "name": "stdout",
     "output_type": "stream",
     "text": [
      "epoch 14, loss 0.0701, train_acc 0.979, test acc 0.860, time 4.0 sec\n"
     ]
    },
    {
     "data": {
      "application/vnd.jupyter.widget-view+json": {
       "model_id": "8ae2803674544b199543a1cf757510fe",
       "version_major": 2,
       "version_minor": 0
      },
      "text/plain": [
       "training:   0%|          | 0/33 [00:00<?, ?it/s]"
      ]
     },
     "metadata": {},
     "output_type": "display_data"
    },
    {
     "name": "stdout",
     "output_type": "stream",
     "text": [
      "epoch 15, loss 0.0573, train_acc 0.984, test acc 0.862, time 4.0 sec\n"
     ]
    },
    {
     "data": {
      "application/vnd.jupyter.widget-view+json": {
       "model_id": "fae1786270834073b8fd19440dc3b5a8",
       "version_major": 2,
       "version_minor": 0
      },
      "text/plain": [
       "training:   0%|          | 0/33 [00:00<?, ?it/s]"
      ]
     },
     "metadata": {},
     "output_type": "display_data"
    },
    {
     "name": "stdout",
     "output_type": "stream",
     "text": [
      "epoch 16, loss 0.0399, train_acc 0.987, test acc 0.867, time 4.0 sec\n"
     ]
    },
    {
     "data": {
      "application/vnd.jupyter.widget-view+json": {
       "model_id": "f7abd04ed45d433bb75d5ef9d846b252",
       "version_major": 2,
       "version_minor": 0
      },
      "text/plain": [
       "training:   0%|          | 0/33 [00:00<?, ?it/s]"
      ]
     },
     "metadata": {},
     "output_type": "display_data"
    },
    {
     "name": "stdout",
     "output_type": "stream",
     "text": [
      "epoch 17, loss 0.0578, train_acc 0.986, test acc 0.858, time 4.0 sec\n"
     ]
    },
    {
     "data": {
      "application/vnd.jupyter.widget-view+json": {
       "model_id": "81b9524b4a8344da8233755a90d80a21",
       "version_major": 2,
       "version_minor": 0
      },
      "text/plain": [
       "training:   0%|          | 0/33 [00:00<?, ?it/s]"
      ]
     },
     "metadata": {},
     "output_type": "display_data"
    },
    {
     "name": "stdout",
     "output_type": "stream",
     "text": [
      "epoch 18, loss 0.0543, train_acc 0.987, test acc 0.866, time 4.0 sec\n"
     ]
    },
    {
     "data": {
      "application/vnd.jupyter.widget-view+json": {
       "model_id": "0cb0ec905a3a463580858e46e26471e5",
       "version_major": 2,
       "version_minor": 0
      },
      "text/plain": [
       "training:   0%|          | 0/33 [00:00<?, ?it/s]"
      ]
     },
     "metadata": {},
     "output_type": "display_data"
    },
    {
     "name": "stdout",
     "output_type": "stream",
     "text": [
      "epoch 19, loss 0.0564, train_acc 0.987, test acc 0.859, time 4.0 sec\n"
     ]
    },
    {
     "data": {
      "application/vnd.jupyter.widget-view+json": {
       "model_id": "0b343641856949598f191ae23fbdc79a",
       "version_major": 2,
       "version_minor": 0
      },
      "text/plain": [
       "training:   0%|          | 0/33 [00:00<?, ?it/s]"
      ]
     },
     "metadata": {},
     "output_type": "display_data"
    },
    {
     "name": "stdout",
     "output_type": "stream",
     "text": [
      "epoch 20, loss 0.0641, train_acc 0.986, test acc 0.859, time 4.0 sec\n"
     ]
    },
    {
     "data": {
      "image/png": "[encoded data removed]",
      "text/plain": [
       "<Figure size 432x288 with 1 Axes>"
      ]
     },
     "metadata": {
      "needs_background": "light"
     },
     "output_type": "display_data"
    }
   ],
   "source": [
    "# Adam随即梯度下降 lr=0.01\n",
    "lr, num_epochs = 0.01, 20\n",
    "optimizer = torch.optim.Adam(filter(lambda p:p.requires_grad, net.parameters()), lr=lr)\n",
    "loss = nn.CrossEntropyLoss()\n",
    "train(train_iter, test_iter, net, loss, optimizer, device, num_epochs)\n",
    "torch.save(net, \"model_small.pkl\")\n",
    "\n",
    "fig=plt.figure()\n",
    "plt.plot(range(1,num_epochs+1),loss_array,label=\"Loss\")\n",
    "plt.plot(range(1,num_epochs+1),train_acc_array,label=\"Train_acc\")\n",
    "plt.plot(range(1,num_epochs+1),test_acc_array,label=\"Valid_acc\")\n",
    "plt.legend()\n",
    "plt.savefig(\"Adam lr=0.01.png\")"
   ]
  },
  {
   "cell_type": "code",
   "execution_count": 44,
   "id": "e46ac020",
   "metadata": {},
   "outputs": [
    {
     "data": {
      "application/vnd.jupyter.widget-view+json": {
       "model_id": "76313b8afcab49868a71543b1b3b06a2",
       "version_major": 2,
       "version_minor": 0
      },
      "text/plain": [
       "  0%|          | 0/20 [00:00<?, ?it/s]"
      ]
     },
     "metadata": {},
     "output_type": "display_data"
    },
    {
     "data": {
      "application/vnd.jupyter.widget-view+json": {
       "model_id": "a973d0214a9246a38023c0d44a4a803e",
       "version_major": 2,
       "version_minor": 0
      },
      "text/plain": [
       "training:   0%|          | 0/33 [00:00<?, ?it/s]"
      ]
     },
     "metadata": {},
     "output_type": "display_data"
    },
    {
     "name": "stdout",
     "output_type": "stream",
     "text": [
      "epoch 1, loss 0.6623, train_acc 0.608, test acc 0.664, time 4.0 sec\n"
     ]
    },
    {
     "data": {
      "application/vnd.jupyter.widget-view+json": {
       "model_id": "060e4aa4ae6b4b71ae65fdd7eaa4971e",
       "version_major": 2,
       "version_minor": 0
      },
      "text/plain": [
       "training:   0%|          | 0/33 [00:00<?, ?it/s]"
      ]
     },
     "metadata": {},
     "output_type": "display_data"
    },
    {
     "name": "stdout",
     "output_type": "stream",
     "text": [
      "epoch 2, loss 0.6238, train_acc 0.667, test acc 0.664, time 4.0 sec\n"
     ]
    },
    {
     "data": {
      "application/vnd.jupyter.widget-view+json": {
       "model_id": "c4d37e4243c5409b9ee5587b01d4aa57",
       "version_major": 2,
       "version_minor": 0
      },
      "text/plain": [
       "training:   0%|          | 0/33 [00:00<?, ?it/s]"
      ]
     },
     "metadata": {},
     "output_type": "display_data"
    },
    {
     "name": "stdout",
     "output_type": "stream",
     "text": [
      "epoch 3, loss 0.6097, train_acc 0.667, test acc 0.664, time 4.0 sec\n"
     ]
    },
    {
     "data": {
      "application/vnd.jupyter.widget-view+json": {
       "model_id": "0ef03d316e3b4d2287fdb6164a70b385",
       "version_major": 2,
       "version_minor": 0
      },
      "text/plain": [
       "training:   0%|          | 0/33 [00:00<?, ?it/s]"
      ]
     },
     "metadata": {},
     "output_type": "display_data"
    },
    {
     "name": "stdout",
     "output_type": "stream",
     "text": [
      "epoch 4, loss 0.5975, train_acc 0.670, test acc 0.666, time 4.0 sec\n"
     ]
    },
    {
     "data": {
      "application/vnd.jupyter.widget-view+json": {
       "model_id": "33109850eb694a449c1e78d21db60505",
       "version_major": 2,
       "version_minor": 0
      },
      "text/plain": [
       "training:   0%|          | 0/33 [00:00<?, ?it/s]"
      ]
     },
     "metadata": {},
     "output_type": "display_data"
    },
    {
     "name": "stdout",
     "output_type": "stream",
     "text": [
      "epoch 5, loss 0.5892, train_acc 0.677, test acc 0.672, time 4.0 sec\n"
     ]
    },
    {
     "data": {
      "application/vnd.jupyter.widget-view+json": {
       "model_id": "26c1d7a5fcf34130966d70387a680364",
       "version_major": 2,
       "version_minor": 0
      },
      "text/plain": [
       "training:   0%|          | 0/33 [00:00<?, ?it/s]"
      ]
     },
     "metadata": {},
     "output_type": "display_data"
    },
    {
     "name": "stdout",
     "output_type": "stream",
     "text": [
      "epoch 6, loss 0.5786, train_acc 0.685, test acc 0.682, time 4.0 sec\n"
     ]
    },
    {
     "data": {
      "application/vnd.jupyter.widget-view+json": {
       "model_id": "3ce0f3d293df46ea801b2287d8275ca6",
       "version_major": 2,
       "version_minor": 0
      },
      "text/plain": [
       "training:   0%|          | 0/33 [00:00<?, ?it/s]"
      ]
     },
     "metadata": {},
     "output_type": "display_data"
    },
    {
     "name": "stdout",
     "output_type": "stream",
     "text": [
      "epoch 7, loss 0.5721, train_acc 0.695, test acc 0.692, time 4.0 sec\n"
     ]
    },
    {
     "data": {
      "application/vnd.jupyter.widget-view+json": {
       "model_id": "121890116d22406b9822f27bf4a12272",
       "version_major": 2,
       "version_minor": 0
      },
      "text/plain": [
       "training:   0%|          | 0/33 [00:00<?, ?it/s]"
      ]
     },
     "metadata": {},
     "output_type": "display_data"
    },
    {
     "name": "stdout",
     "output_type": "stream",
     "text": [
      "epoch 8, loss 0.5662, train_acc 0.704, test acc 0.697, time 4.0 sec\n"
     ]
    },
    {
     "data": {
      "application/vnd.jupyter.widget-view+json": {
       "model_id": "5ed19036c0184a188b486d9bb6a6ea47",
       "version_major": 2,
       "version_minor": 0
      },
      "text/plain": [
       "training:   0%|          | 0/33 [00:00<?, ?it/s]"
      ]
     },
     "metadata": {},
     "output_type": "display_data"
    },
    {
     "name": "stdout",
     "output_type": "stream",
     "text": [
      "epoch 9, loss 0.5578, train_acc 0.713, test acc 0.708, time 4.0 sec\n"
     ]
    },
    {
     "data": {
      "application/vnd.jupyter.widget-view+json": {
       "model_id": "b560122a8e9c47c6a2fcd8646715870e",
       "version_major": 2,
       "version_minor": 0
      },
      "text/plain": [
       "training:   0%|          | 0/33 [00:00<?, ?it/s]"
      ]
     },
     "metadata": {},
     "output_type": "display_data"
    },
    {
     "name": "stdout",
     "output_type": "stream",
     "text": [
      "epoch 10, loss 0.5517, train_acc 0.721, test acc 0.713, time 4.1 sec\n"
     ]
    },
    {
     "data": {
      "application/vnd.jupyter.widget-view+json": {
       "model_id": "40204719a4bf4f4a990342aa030b19c6",
       "version_major": 2,
       "version_minor": 0
      },
      "text/plain": [
       "training:   0%|          | 0/33 [00:00<?, ?it/s]"
      ]
     },
     "metadata": {},
     "output_type": "display_data"
    },
    {
     "name": "stdout",
     "output_type": "stream",
     "text": [
      "epoch 11, loss 0.5468, train_acc 0.727, test acc 0.719, time 4.1 sec\n"
     ]
    },
    {
     "data": {
      "application/vnd.jupyter.widget-view+json": {
       "model_id": "3aec1b2d24b146cd97144d5411e94a89",
       "version_major": 2,
       "version_minor": 0
      },
      "text/plain": [
       "training:   0%|          | 0/33 [00:00<?, ?it/s]"
      ]
     },
     "metadata": {},
     "output_type": "display_data"
    },
    {
     "name": "stdout",
     "output_type": "stream",
     "text": [
      "epoch 12, loss 0.5403, train_acc 0.733, test acc 0.726, time 4.1 sec\n"
     ]
    },
    {
     "data": {
      "application/vnd.jupyter.widget-view+json": {
       "model_id": "b635d7ed5fa347a4acd751f530a1e665",
       "version_major": 2,
       "version_minor": 0
      },
      "text/plain": [
       "training:   0%|          | 0/33 [00:00<?, ?it/s]"
      ]
     },
     "metadata": {},
     "output_type": "display_data"
    },
    {
     "name": "stdout",
     "output_type": "stream",
     "text": [
      "epoch 13, loss 0.5355, train_acc 0.737, test acc 0.731, time 4.1 sec\n"
     ]
    },
    {
     "data": {
      "application/vnd.jupyter.widget-view+json": {
       "model_id": "f7b7f9537a3f48808fcbaa5496ac10ba",
       "version_major": 2,
       "version_minor": 0
      },
      "text/plain": [
       "training:   0%|          | 0/33 [00:00<?, ?it/s]"
      ]
     },
     "metadata": {},
     "output_type": "display_data"
    },
    {
     "name": "stdout",
     "output_type": "stream",
     "text": [
      "epoch 14, loss 0.5309, train_acc 0.741, test acc 0.735, time 4.1 sec\n"
     ]
    },
    {
     "data": {
      "application/vnd.jupyter.widget-view+json": {
       "model_id": "cdcb82a515644b99a16008d2f7b37a7d",
       "version_major": 2,
       "version_minor": 0
      },
      "text/plain": [
       "training:   0%|          | 0/33 [00:00<?, ?it/s]"
      ]
     },
     "metadata": {},
     "output_type": "display_data"
    },
    {
     "name": "stdout",
     "output_type": "stream",
     "text": [
      "epoch 15, loss 0.5247, train_acc 0.747, test acc 0.739, time 4.1 sec\n"
     ]
    },
    {
     "data": {
      "application/vnd.jupyter.widget-view+json": {
       "model_id": "0b6f82a151394a37b4ef5c2c1ee26a17",
       "version_major": 2,
       "version_minor": 0
      },
      "text/plain": [
       "training:   0%|          | 0/33 [00:00<?, ?it/s]"
      ]
     },
     "metadata": {},
     "output_type": "display_data"
    },
    {
     "name": "stdout",
     "output_type": "stream",
     "text": [
      "epoch 16, loss 0.5218, train_acc 0.750, test acc 0.743, time 4.1 sec\n"
     ]
    },
    {
     "data": {
      "application/vnd.jupyter.widget-view+json": {
       "model_id": "d123c652b26c4fb49c306bb1b682a6c2",
       "version_major": 2,
       "version_minor": 0
      },
      "text/plain": [
       "training:   0%|          | 0/33 [00:00<?, ?it/s]"
      ]
     },
     "metadata": {},
     "output_type": "display_data"
    },
    {
     "name": "stdout",
     "output_type": "stream",
     "text": [
      "epoch 17, loss 0.5183, train_acc 0.753, test acc 0.745, time 4.1 sec\n"
     ]
    },
    {
     "data": {
      "application/vnd.jupyter.widget-view+json": {
       "model_id": "cd1b01979a64466ea84a6ec66c140598",
       "version_major": 2,
       "version_minor": 0
      },
      "text/plain": [
       "training:   0%|          | 0/33 [00:00<?, ?it/s]"
      ]
     },
     "metadata": {},
     "output_type": "display_data"
    },
    {
     "name": "stdout",
     "output_type": "stream",
     "text": [
      "epoch 18, loss 0.5150, train_acc 0.754, test acc 0.746, time 4.1 sec\n"
     ]
    },
    {
     "data": {
      "application/vnd.jupyter.widget-view+json": {
       "model_id": "7bcd0b1e4a984cea97f1d415beb0916f",
       "version_major": 2,
       "version_minor": 0
      },
      "text/plain": [
       "training:   0%|          | 0/33 [00:00<?, ?it/s]"
      ]
     },
     "metadata": {},
     "output_type": "display_data"
    },
    {
     "name": "stdout",
     "output_type": "stream",
     "text": [
      "epoch 19, loss 0.5114, train_acc 0.754, test acc 0.750, time 4.1 sec\n"
     ]
    },
    {
     "data": {
      "application/vnd.jupyter.widget-view+json": {
       "model_id": "6a4e036ca6fb4258a3979c993473fd06",
       "version_major": 2,
       "version_minor": 0
      },
      "text/plain": [
       "training:   0%|          | 0/33 [00:00<?, ?it/s]"
      ]
     },
     "metadata": {},
     "output_type": "display_data"
    },
    {
     "name": "stdout",
     "output_type": "stream",
     "text": [
      "epoch 20, loss 0.5073, train_acc 0.761, test acc 0.752, time 4.1 sec\n"
     ]
    },
    {
     "data": {
      "image/png": "[encoded data removed]",
      "text/plain": [
       "<Figure size 432x288 with 1 Axes>"
      ]
     },
     "metadata": {
      "needs_background": "light"
     },
     "output_type": "display_data"
    }
   ],
   "source": [
    "# 原文中的Adadelta lr=0.01\n",
    "lr, num_epochs = 0.01, 20\n",
    "optimizer = torch.optim.Adadelta(filter(lambda p:p.requires_grad, net.parameters()), lr=lr)\n",
    "loss = nn.CrossEntropyLoss()\n",
    "train(train_iter, test_iter, net, loss, optimizer, device, num_epochs)\n",
    "\n",
    "fig=plt.figure()\n",
    "plt.plot(range(1,num_epochs+1),loss_array,label=\"Loss\")\n",
    "plt.plot(range(1,num_epochs+1),train_acc_array,label=\"Train_acc\")\n",
    "plt.plot(range(1,num_epochs+1),test_acc_array,label=\"Valid_acc\")\n",
    "plt.legend()\n",
    "plt.savefig(\"Adadelta lr=0.01.png\")"
   ]
  },
  {
   "cell_type": "code",
   "execution_count": 48,
   "id": "ee77bc0e",
   "metadata": {},
   "outputs": [
    {
     "data": {
      "application/vnd.jupyter.widget-view+json": {
       "model_id": "5e737c4d44c1422a8ea68ccd784851db",
       "version_major": 2,
       "version_minor": 0
      },
      "text/plain": [
       "  0%|          | 0/20 [00:00<?, ?it/s]"
      ]
     },
     "metadata": {},
     "output_type": "display_data"
    },
    {
     "data": {
      "application/vnd.jupyter.widget-view+json": {
       "model_id": "71f3df065e674b8a96c98b8a777ddc52",
       "version_major": 2,
       "version_minor": 0
      },
      "text/plain": [
       "training:   0%|          | 0/33 [00:00<?, ?it/s]"
      ]
     },
     "metadata": {},
     "output_type": "display_data"
    },
    {
     "name": "stdout",
     "output_type": "stream",
     "text": [
      "epoch 1, loss 0.5740, train_acc 0.699, test acc 0.757, time 3.9 sec\n"
     ]
    },
    {
     "data": {
      "application/vnd.jupyter.widget-view+json": {
       "model_id": "8949e01b61544255aa6268ecf3baf063",
       "version_major": 2,
       "version_minor": 0
      },
      "text/plain": [
       "training:   0%|          | 0/33 [00:00<?, ?it/s]"
      ]
     },
     "metadata": {},
     "output_type": "display_data"
    },
    {
     "name": "stdout",
     "output_type": "stream",
     "text": [
      "epoch 2, loss 0.4890, train_acc 0.773, test acc 0.772, time 3.9 sec\n"
     ]
    },
    {
     "data": {
      "application/vnd.jupyter.widget-view+json": {
       "model_id": "904ade5a463e46ea869440204140f539",
       "version_major": 2,
       "version_minor": 0
      },
      "text/plain": [
       "training:   0%|          | 0/33 [00:00<?, ?it/s]"
      ]
     },
     "metadata": {},
     "output_type": "display_data"
    },
    {
     "name": "stdout",
     "output_type": "stream",
     "text": [
      "epoch 3, loss 0.4545, train_acc 0.795, test acc 0.786, time 3.9 sec\n"
     ]
    },
    {
     "data": {
      "application/vnd.jupyter.widget-view+json": {
       "model_id": "ef08a37987174ab9807a52a3c5cc4e33",
       "version_major": 2,
       "version_minor": 0
      },
      "text/plain": [
       "training:   0%|          | 0/33 [00:00<?, ?it/s]"
      ]
     },
     "metadata": {},
     "output_type": "display_data"
    },
    {
     "name": "stdout",
     "output_type": "stream",
     "text": [
      "epoch 4, loss 0.4265, train_acc 0.812, test acc 0.797, time 3.9 sec\n"
     ]
    },
    {
     "data": {
      "application/vnd.jupyter.widget-view+json": {
       "model_id": "71df1de5d6ff4b5d88450d4e039705fa",
       "version_major": 2,
       "version_minor": 0
      },
      "text/plain": [
       "training:   0%|          | 0/33 [00:00<?, ?it/s]"
      ]
     },
     "metadata": {},
     "output_type": "display_data"
    },
    {
     "name": "stdout",
     "output_type": "stream",
     "text": [
      "epoch 5, loss 0.4005, train_acc 0.827, test acc 0.803, time 3.9 sec\n"
     ]
    },
    {
     "data": {
      "application/vnd.jupyter.widget-view+json": {
       "model_id": "6fed2a070017437e84b9a2f8329e2f49",
       "version_major": 2,
       "version_minor": 0
      },
      "text/plain": [
       "training:   0%|          | 0/33 [00:00<?, ?it/s]"
      ]
     },
     "metadata": {},
     "output_type": "display_data"
    },
    {
     "name": "stdout",
     "output_type": "stream",
     "text": [
      "epoch 6, loss 0.3765, train_acc 0.842, test acc 0.810, time 3.9 sec\n"
     ]
    },
    {
     "data": {
      "application/vnd.jupyter.widget-view+json": {
       "model_id": "5497da6445074829b836607fa0f75cae",
       "version_major": 2,
       "version_minor": 0
      },
      "text/plain": [
       "training:   0%|          | 0/33 [00:00<?, ?it/s]"
      ]
     },
     "metadata": {},
     "output_type": "display_data"
    },
    {
     "name": "stdout",
     "output_type": "stream",
     "text": [
      "epoch 7, loss 0.3542, train_acc 0.854, test acc 0.820, time 3.9 sec\n"
     ]
    },
    {
     "data": {
      "application/vnd.jupyter.widget-view+json": {
       "model_id": "fa963387bb214cd0abf3e8378b261874",
       "version_major": 2,
       "version_minor": 0
      },
      "text/plain": [
       "training:   0%|          | 0/33 [00:00<?, ?it/s]"
      ]
     },
     "metadata": {},
     "output_type": "display_data"
    },
    {
     "name": "stdout",
     "output_type": "stream",
     "text": [
      "epoch 8, loss 0.3307, train_acc 0.870, test acc 0.832, time 3.9 sec\n"
     ]
    },
    {
     "data": {
      "application/vnd.jupyter.widget-view+json": {
       "model_id": "8392d45f88b144c0836850d2f5d87069",
       "version_major": 2,
       "version_minor": 0
      },
      "text/plain": [
       "training:   0%|          | 0/33 [00:00<?, ?it/s]"
      ]
     },
     "metadata": {},
     "output_type": "display_data"
    },
    {
     "name": "stdout",
     "output_type": "stream",
     "text": [
      "epoch 9, loss 0.3076, train_acc 0.880, test acc 0.837, time 3.9 sec\n"
     ]
    },
    {
     "data": {
      "application/vnd.jupyter.widget-view+json": {
       "model_id": "27b15dfa847a431dbfddb779022b268e",
       "version_major": 2,
       "version_minor": 0
      },
      "text/plain": [
       "training:   0%|          | 0/33 [00:00<?, ?it/s]"
      ]
     },
     "metadata": {},
     "output_type": "display_data"
    },
    {
     "name": "stdout",
     "output_type": "stream",
     "text": [
      "epoch 10, loss 0.2831, train_acc 0.892, test acc 0.843, time 3.9 sec\n"
     ]
    },
    {
     "data": {
      "application/vnd.jupyter.widget-view+json": {
       "model_id": "e05be794fc054402ab16f3a1ceeaff6d",
       "version_major": 2,
       "version_minor": 0
      },
      "text/plain": [
       "training:   0%|          | 0/33 [00:00<?, ?it/s]"
      ]
     },
     "metadata": {},
     "output_type": "display_data"
    },
    {
     "name": "stdout",
     "output_type": "stream",
     "text": [
      "epoch 11, loss 0.2631, train_acc 0.907, test acc 0.851, time 3.9 sec\n"
     ]
    },
    {
     "data": {
      "application/vnd.jupyter.widget-view+json": {
       "model_id": "17c6170ada5e41d3a83c7a537c722570",
       "version_major": 2,
       "version_minor": 0
      },
      "text/plain": [
       "training:   0%|          | 0/33 [00:00<?, ?it/s]"
      ]
     },
     "metadata": {},
     "output_type": "display_data"
    },
    {
     "name": "stdout",
     "output_type": "stream",
     "text": [
      "epoch 12, loss 0.2421, train_acc 0.914, test acc 0.859, time 3.9 sec\n"
     ]
    },
    {
     "data": {
      "application/vnd.jupyter.widget-view+json": {
       "model_id": "b25126289d1a4a8cad0d2c76c8f205ed",
       "version_major": 2,
       "version_minor": 0
      },
      "text/plain": [
       "training:   0%|          | 0/33 [00:00<?, ?it/s]"
      ]
     },
     "metadata": {},
     "output_type": "display_data"
    },
    {
     "name": "stdout",
     "output_type": "stream",
     "text": [
      "epoch 13, loss 0.2214, train_acc 0.923, test acc 0.865, time 3.9 sec\n"
     ]
    },
    {
     "data": {
      "application/vnd.jupyter.widget-view+json": {
       "model_id": "0cd84358675a476c9accf54781a80ec5",
       "version_major": 2,
       "version_minor": 0
      },
      "text/plain": [
       "training:   0%|          | 0/33 [00:00<?, ?it/s]"
      ]
     },
     "metadata": {},
     "output_type": "display_data"
    },
    {
     "name": "stdout",
     "output_type": "stream",
     "text": [
      "epoch 14, loss 0.2048, train_acc 0.931, test acc 0.870, time 4.0 sec\n"
     ]
    },
    {
     "data": {
      "application/vnd.jupyter.widget-view+json": {
       "model_id": "52522b685cc745778b56a8f61af82e2e",
       "version_major": 2,
       "version_minor": 0
      },
      "text/plain": [
       "training:   0%|          | 0/33 [00:00<?, ?it/s]"
      ]
     },
     "metadata": {},
     "output_type": "display_data"
    },
    {
     "name": "stdout",
     "output_type": "stream",
     "text": [
      "epoch 15, loss 0.1873, train_acc 0.939, test acc 0.872, time 4.0 sec\n"
     ]
    },
    {
     "data": {
      "application/vnd.jupyter.widget-view+json": {
       "model_id": "cbcdc823ef81429bae995616793fb141",
       "version_major": 2,
       "version_minor": 0
      },
      "text/plain": [
       "training:   0%|          | 0/33 [00:00<?, ?it/s]"
      ]
     },
     "metadata": {},
     "output_type": "display_data"
    },
    {
     "name": "stdout",
     "output_type": "stream",
     "text": [
      "epoch 16, loss 0.1735, train_acc 0.946, test acc 0.876, time 4.1 sec\n"
     ]
    },
    {
     "data": {
      "application/vnd.jupyter.widget-view+json": {
       "model_id": "3f6e8958c2554aabb41a8d053943ca64",
       "version_major": 2,
       "version_minor": 0
      },
      "text/plain": [
       "training:   0%|          | 0/33 [00:00<?, ?it/s]"
      ]
     },
     "metadata": {},
     "output_type": "display_data"
    },
    {
     "name": "stdout",
     "output_type": "stream",
     "text": [
      "epoch 17, loss 0.1620, train_acc 0.949, test acc 0.877, time 4.0 sec\n"
     ]
    },
    {
     "data": {
      "application/vnd.jupyter.widget-view+json": {
       "model_id": "abefd334aa804b99acb97d93f858567d",
       "version_major": 2,
       "version_minor": 0
      },
      "text/plain": [
       "training:   0%|          | 0/33 [00:00<?, ?it/s]"
      ]
     },
     "metadata": {},
     "output_type": "display_data"
    },
    {
     "name": "stdout",
     "output_type": "stream",
     "text": [
      "epoch 18, loss 0.1488, train_acc 0.955, test acc 0.879, time 4.0 sec\n"
     ]
    },
    {
     "data": {
      "application/vnd.jupyter.widget-view+json": {
       "model_id": "48252a08c621487785af533e1ac637d3",
       "version_major": 2,
       "version_minor": 0
      },
      "text/plain": [
       "training:   0%|          | 0/33 [00:00<?, ?it/s]"
      ]
     },
     "metadata": {},
     "output_type": "display_data"
    },
    {
     "name": "stdout",
     "output_type": "stream",
     "text": [
      "epoch 19, loss 0.1376, train_acc 0.959, test acc 0.880, time 4.0 sec\n"
     ]
    },
    {
     "data": {
      "application/vnd.jupyter.widget-view+json": {
       "model_id": "e6b92996b69f45239235f64d9f132e5c",
       "version_major": 2,
       "version_minor": 0
      },
      "text/plain": [
       "training:   0%|          | 0/33 [00:00<?, ?it/s]"
      ]
     },
     "metadata": {},
     "output_type": "display_data"
    },
    {
     "name": "stdout",
     "output_type": "stream",
     "text": [
      "epoch 20, loss 0.1283, train_acc 0.963, test acc 0.883, time 4.0 sec\n"
     ]
    },
    {
     "data": {
      "image/png": "[encoded data removed]",
      "text/plain": [
       "<Figure size 432x288 with 1 Axes>"
      ]
     },
     "metadata": {
      "needs_background": "light"
     },
     "output_type": "display_data"
    }
   ],
   "source": [
    "# Adam随即梯度下降 lr=0.0001\n",
    "lr, num_epochs = 0.0001, 20\n",
    "optimizer = torch.optim.Adam(filter(lambda p:p.requires_grad, net.parameters()), lr=lr)\n",
    "loss = nn.CrossEntropyLoss()\n",
    "train(train_iter, test_iter, net, loss, optimizer, device, num_epochs)\n",
    "torch.save(net, \"model_small.pkl\")\n",
    "\n",
    "fig=plt.figure()\n",
    "plt.plot(range(1,num_epochs+1),loss_array,label=\"Loss\")\n",
    "plt.plot(range(1,num_epochs+1),train_acc_array,label=\"Train_acc\")\n",
    "plt.plot(range(1,num_epochs+1),test_acc_array,label=\"Valid_acc\")\n",
    "plt.legend()\n",
    "plt.savefig(\"Adam lr=0.0001.png\")"
   ]
  },
  {
   "cell_type": "code",
   "execution_count": 51,
   "id": "2e61b845",
   "metadata": {},
   "outputs": [
    {
     "data": {
      "application/vnd.jupyter.widget-view+json": {
       "model_id": "6c861bbad791423a94a3e6bd7d309be6",
       "version_major": 2,
       "version_minor": 0
      },
      "text/plain": [
       "  0%|          | 0/20 [00:00<?, ?it/s]"
      ]
     },
     "metadata": {},
     "output_type": "display_data"
    },
    {
     "data": {
      "application/vnd.jupyter.widget-view+json": {
       "model_id": "05c2824850954666860755386de984ed",
       "version_major": 2,
       "version_minor": 0
      },
      "text/plain": [
       "training:   0%|          | 0/33 [00:00<?, ?it/s]"
      ]
     },
     "metadata": {},
     "output_type": "display_data"
    },
    {
     "name": "stdout",
     "output_type": "stream",
     "text": [
      "epoch 1, loss 0.6801, train_acc 0.577, test acc 0.656, time 4.0 sec\n"
     ]
    },
    {
     "data": {
      "application/vnd.jupyter.widget-view+json": {
       "model_id": "f666cc5dc057460ebcb9f1b146c2502b",
       "version_major": 2,
       "version_minor": 0
      },
      "text/plain": [
       "training:   0%|          | 0/33 [00:00<?, ?it/s]"
      ]
     },
     "metadata": {},
     "output_type": "display_data"
    },
    {
     "name": "stdout",
     "output_type": "stream",
     "text": [
      "epoch 2, loss 0.6779, train_acc 0.583, test acc 0.661, time 3.9 sec\n"
     ]
    },
    {
     "data": {
      "application/vnd.jupyter.widget-view+json": {
       "model_id": "d7a8be68ef894d6a89b0ea3583562d10",
       "version_major": 2,
       "version_minor": 0
      },
      "text/plain": [
       "training:   0%|          | 0/33 [00:00<?, ?it/s]"
      ]
     },
     "metadata": {},
     "output_type": "display_data"
    },
    {
     "name": "stdout",
     "output_type": "stream",
     "text": [
      "epoch 3, loss 0.6778, train_acc 0.583, test acc 0.663, time 3.9 sec\n"
     ]
    },
    {
     "data": {
      "application/vnd.jupyter.widget-view+json": {
       "model_id": "19f50b229e684a069458d6f6099981fa",
       "version_major": 2,
       "version_minor": 0
      },
      "text/plain": [
       "training:   0%|          | 0/33 [00:00<?, ?it/s]"
      ]
     },
     "metadata": {},
     "output_type": "display_data"
    },
    {
     "name": "stdout",
     "output_type": "stream",
     "text": [
      "epoch 4, loss 0.6731, train_acc 0.600, test acc 0.664, time 3.9 sec\n"
     ]
    },
    {
     "data": {
      "application/vnd.jupyter.widget-view+json": {
       "model_id": "6bb133f6d94444e68e3ea7560040d959",
       "version_major": 2,
       "version_minor": 0
      },
      "text/plain": [
       "training:   0%|          | 0/33 [00:00<?, ?it/s]"
      ]
     },
     "metadata": {},
     "output_type": "display_data"
    },
    {
     "name": "stdout",
     "output_type": "stream",
     "text": [
      "epoch 5, loss 0.6721, train_acc 0.603, test acc 0.664, time 4.0 sec\n"
     ]
    },
    {
     "data": {
      "application/vnd.jupyter.widget-view+json": {
       "model_id": "59f08783e6764d7bacd5e87bcd8f5d3c",
       "version_major": 2,
       "version_minor": 0
      },
      "text/plain": [
       "training:   0%|          | 0/33 [00:00<?, ?it/s]"
      ]
     },
     "metadata": {},
     "output_type": "display_data"
    },
    {
     "name": "stdout",
     "output_type": "stream",
     "text": [
      "epoch 6, loss 0.6707, train_acc 0.609, test acc 0.664, time 4.0 sec\n"
     ]
    },
    {
     "data": {
      "application/vnd.jupyter.widget-view+json": {
       "model_id": "83d265acd0524b318591b57a8c2f1d6b",
       "version_major": 2,
       "version_minor": 0
      },
      "text/plain": [
       "training:   0%|          | 0/33 [00:00<?, ?it/s]"
      ]
     },
     "metadata": {},
     "output_type": "display_data"
    },
    {
     "name": "stdout",
     "output_type": "stream",
     "text": [
      "epoch 7, loss 0.6697, train_acc 0.617, test acc 0.664, time 4.0 sec\n"
     ]
    },
    {
     "data": {
      "application/vnd.jupyter.widget-view+json": {
       "model_id": "07bc111f83754cd7a1d51f76610e0e99",
       "version_major": 2,
       "version_minor": 0
      },
      "text/plain": [
       "training:   0%|          | 0/33 [00:00<?, ?it/s]"
      ]
     },
     "metadata": {},
     "output_type": "display_data"
    },
    {
     "name": "stdout",
     "output_type": "stream",
     "text": [
      "epoch 8, loss 0.6661, train_acc 0.619, test acc 0.664, time 4.0 sec\n"
     ]
    },
    {
     "data": {
      "application/vnd.jupyter.widget-view+json": {
       "model_id": "aadcfe12e4b8440d853ed376288cf17d",
       "version_major": 2,
       "version_minor": 0
      },
      "text/plain": [
       "training:   0%|          | 0/33 [00:00<?, ?it/s]"
      ]
     },
     "metadata": {},
     "output_type": "display_data"
    },
    {
     "name": "stdout",
     "output_type": "stream",
     "text": [
      "epoch 9, loss 0.6659, train_acc 0.625, test acc 0.664, time 4.0 sec\n"
     ]
    },
    {
     "data": {
      "application/vnd.jupyter.widget-view+json": {
       "model_id": "00d40e5165c94a0f8fae64ab739418f8",
       "version_major": 2,
       "version_minor": 0
      },
      "text/plain": [
       "training:   0%|          | 0/33 [00:00<?, ?it/s]"
      ]
     },
     "metadata": {},
     "output_type": "display_data"
    },
    {
     "name": "stdout",
     "output_type": "stream",
     "text": [
      "epoch 10, loss 0.6644, train_acc 0.626, test acc 0.664, time 4.0 sec\n"
     ]
    },
    {
     "data": {
      "application/vnd.jupyter.widget-view+json": {
       "model_id": "3c9a7cee94eb4e86963059ca3a520489",
       "version_major": 2,
       "version_minor": 0
      },
      "text/plain": [
       "training:   0%|          | 0/33 [00:00<?, ?it/s]"
      ]
     },
     "metadata": {},
     "output_type": "display_data"
    },
    {
     "name": "stdout",
     "output_type": "stream",
     "text": [
      "epoch 11, loss 0.6628, train_acc 0.630, test acc 0.664, time 4.0 sec\n"
     ]
    },
    {
     "data": {
      "application/vnd.jupyter.widget-view+json": {
       "model_id": "9fb4fec14d1f401d866a44084495898f",
       "version_major": 2,
       "version_minor": 0
      },
      "text/plain": [
       "training:   0%|          | 0/33 [00:00<?, ?it/s]"
      ]
     },
     "metadata": {},
     "output_type": "display_data"
    },
    {
     "name": "stdout",
     "output_type": "stream",
     "text": [
      "epoch 12, loss 0.6611, train_acc 0.639, test acc 0.664, time 4.0 sec\n"
     ]
    },
    {
     "data": {
      "application/vnd.jupyter.widget-view+json": {
       "model_id": "aabe2c44e75644be9f29fa527580b870",
       "version_major": 2,
       "version_minor": 0
      },
      "text/plain": [
       "training:   0%|          | 0/33 [00:00<?, ?it/s]"
      ]
     },
     "metadata": {},
     "output_type": "display_data"
    },
    {
     "name": "stdout",
     "output_type": "stream",
     "text": [
      "epoch 13, loss 0.6599, train_acc 0.638, test acc 0.664, time 4.0 sec\n"
     ]
    },
    {
     "data": {
      "application/vnd.jupyter.widget-view+json": {
       "model_id": "dc305e0e07c94971be1163429db5cf4c",
       "version_major": 2,
       "version_minor": 0
      },
      "text/plain": [
       "training:   0%|          | 0/33 [00:00<?, ?it/s]"
      ]
     },
     "metadata": {},
     "output_type": "display_data"
    },
    {
     "name": "stdout",
     "output_type": "stream",
     "text": [
      "epoch 14, loss 0.6601, train_acc 0.640, test acc 0.664, time 4.0 sec\n"
     ]
    },
    {
     "data": {
      "application/vnd.jupyter.widget-view+json": {
       "model_id": "ae5ce348bf15429ca39c118bcd3f7c1b",
       "version_major": 2,
       "version_minor": 0
      },
      "text/plain": [
       "training:   0%|          | 0/33 [00:00<?, ?it/s]"
      ]
     },
     "metadata": {},
     "output_type": "display_data"
    },
    {
     "name": "stdout",
     "output_type": "stream",
     "text": [
      "epoch 15, loss 0.6578, train_acc 0.646, test acc 0.664, time 4.1 sec\n"
     ]
    },
    {
     "data": {
      "application/vnd.jupyter.widget-view+json": {
       "model_id": "569beeb0edd949c59f219a3966ec401b",
       "version_major": 2,
       "version_minor": 0
      },
      "text/plain": [
       "training:   0%|          | 0/33 [00:00<?, ?it/s]"
      ]
     },
     "metadata": {},
     "output_type": "display_data"
    },
    {
     "name": "stdout",
     "output_type": "stream",
     "text": [
      "epoch 16, loss 0.6561, train_acc 0.648, test acc 0.664, time 4.1 sec\n"
     ]
    },
    {
     "data": {
      "application/vnd.jupyter.widget-view+json": {
       "model_id": "a8c30525aef54afea32f25b0a5616dc2",
       "version_major": 2,
       "version_minor": 0
      },
      "text/plain": [
       "training:   0%|          | 0/33 [00:00<?, ?it/s]"
      ]
     },
     "metadata": {},
     "output_type": "display_data"
    },
    {
     "name": "stdout",
     "output_type": "stream",
     "text": [
      "epoch 17, loss 0.6556, train_acc 0.646, test acc 0.664, time 4.1 sec\n"
     ]
    },
    {
     "data": {
      "application/vnd.jupyter.widget-view+json": {
       "model_id": "ae173c14afb8464ba2d79c5c3ce06ab2",
       "version_major": 2,
       "version_minor": 0
      },
      "text/plain": [
       "training:   0%|          | 0/33 [00:00<?, ?it/s]"
      ]
     },
     "metadata": {},
     "output_type": "display_data"
    },
    {
     "name": "stdout",
     "output_type": "stream",
     "text": [
      "epoch 18, loss 0.6553, train_acc 0.651, test acc 0.664, time 4.1 sec\n"
     ]
    },
    {
     "data": {
      "application/vnd.jupyter.widget-view+json": {
       "model_id": "25d3d233f9924a03a0afbd28eb9b1b49",
       "version_major": 2,
       "version_minor": 0
      },
      "text/plain": [
       "training:   0%|          | 0/33 [00:00<?, ?it/s]"
      ]
     },
     "metadata": {},
     "output_type": "display_data"
    },
    {
     "name": "stdout",
     "output_type": "stream",
     "text": [
      "epoch 19, loss 0.6515, train_acc 0.657, test acc 0.664, time 4.1 sec\n"
     ]
    },
    {
     "data": {
      "application/vnd.jupyter.widget-view+json": {
       "model_id": "803746aba63948f28ee8114c52d342ff",
       "version_major": 2,
       "version_minor": 0
      },
      "text/plain": [
       "training:   0%|          | 0/33 [00:00<?, ?it/s]"
      ]
     },
     "metadata": {},
     "output_type": "display_data"
    },
    {
     "name": "stdout",
     "output_type": "stream",
     "text": [
      "epoch 20, loss 0.6517, train_acc 0.654, test acc 0.664, time 4.1 sec\n"
     ]
    }
   ],
   "source": [
    "# 原文中的Adadelta lr=0.0001\n",
    "lr, num_epochs = 0.0001, 20\n",
    "optimizer = torch.optim.Adadelta(filter(lambda p:p.requires_grad, net.parameters()), lr=lr)\n",
    "loss = nn.CrossEntropyLoss()\n",
    "train(train_iter, test_iter, net, loss, optimizer, device, num_epochs)"
   ]
  },
  {
   "cell_type": "code",
   "execution_count": 57,
   "id": "34914ea3",
   "metadata": {
    "scrolled": true
   },
   "outputs": [
    {
     "data": {
      "image/png": "[encoded data removed]",
      "text/plain": [
       "<Figure size 432x288 with 1 Axes>"
      ]
     },
     "metadata": {
      "needs_background": "light"
     },
     "output_type": "display_data"
    }
   ],
   "source": [
    "fig=plt.figure()\n",
    "plt.ylim(0,1)\n",
    "plt.plot(range(1,num_epochs+1),loss_array[20:],label=\"Loss\")\n",
    "plt.plot(range(1,num_epochs+1),train_acc_array[20:],label=\"Train_acc\")\n",
    "plt.plot(range(1,num_epochs+1),test_acc_array[20:],label=\"Valid_acc\")\n",
    "plt.legend()\n",
    "plt.savefig(\"Adadelta lr=0.0001.png\")"
   ]
  },
  {
   "cell_type": "markdown",
   "id": "eec1fdac",
   "metadata": {},
   "source": [
    "## -----------------参数--------------------"
   ]
  },
  {
   "cell_type": "markdown",
   "id": "ec15134b",
   "metadata": {},
   "source": [
    "## 加载模型 "
   ]
  },
  {
   "cell_type": "code",
   "execution_count": 58,
   "id": "d5772cd7",
   "metadata": {},
   "outputs": [],
   "source": [
    "net=torch.load(\"model_small.pkl\")"
   ]
  },
  {
   "cell_type": "code",
   "execution_count": 59,
   "id": "b1cdbc7b",
   "metadata": {},
   "outputs": [
    {
     "data": {
      "text/plain": [
       "TextCNN(\n",
       "  (embedding): Embedding(11008, 300)\n",
       "  (constant_embedding): Embedding(11008, 300)\n",
       "  (convs): ModuleList(\n",
       "    (0): Conv1d(600, 300, kernel_size=(3,), stride=(1,))\n",
       "    (1): Conv1d(600, 300, kernel_size=(4,), stride=(1,))\n",
       "    (2): Conv1d(600, 300, kernel_size=(5,), stride=(1,))\n",
       "  )\n",
       "  (pool): GlobalMaxPool1d()\n",
       "  (dropout): Dropout(p=0.5, inplace=False)\n",
       "  (decoder): Linear(in_features=900, out_features=2, bias=True)\n",
       ")"
      ]
     },
     "execution_count": 59,
     "metadata": {},
     "output_type": "execute_result"
    }
   ],
   "source": [
    "net"
   ]
  },
  {
   "cell_type": "code",
   "execution_count": 60,
   "id": "8977224b",
   "metadata": {},
   "outputs": [
    {
     "name": "stdout",
     "output_type": "stream",
     "text": [
      "embedding.weight : torch.Size([11008, 300])\n",
      "constant_embedding.weight : torch.Size([11008, 300])\n",
      "convs.0.weight : torch.Size([300, 600, 3])\n",
      "convs.0.bias : torch.Size([300])\n",
      "convs.1.weight : torch.Size([300, 600, 4])\n",
      "convs.1.bias : torch.Size([300])\n",
      "convs.2.weight : torch.Size([300, 600, 5])\n",
      "convs.2.bias : torch.Size([300])\n",
      "decoder.weight : torch.Size([2, 900])\n",
      "decoder.bias : torch.Size([2])\n"
     ]
    }
   ],
   "source": [
    "for name,parameters in net.named_parameters():\n",
    "    print(name,':',parameters.size())"
   ]
  },
  {
   "cell_type": "code",
   "execution_count": 61,
   "id": "fe01c28a",
   "metadata": {},
   "outputs": [
    {
     "name": "stdout",
     "output_type": "stream",
     "text": [
      "Total params: 8767502\n",
      "Trainable params: 5465102\n",
      "Non-trainable params: 3302400\n"
     ]
    }
   ],
   "source": [
    "model=net\n",
    "\n",
    "Total_params = 0\n",
    "Trainable_params = 0\n",
    "NonTrainable_params = 0\n",
    "\n",
    "for param in model.parameters():\n",
    "    mulValue = np.prod(param.size())  # 使用numpy prod接口计算参数数组所有元素之积\n",
    "    Total_params += mulValue  # 总参数量\n",
    "    if param.requires_grad:\n",
    "        Trainable_params += mulValue  # 可训练参数量\n",
    "    else:\n",
    "        NonTrainable_params += mulValue  # 非可训练参数量\n",
    "\n",
    "print(f'Total params: {Total_params}')\n",
    "print(f'Trainable params: {Trainable_params}')\n",
    "print(f'Non-trainable params: {NonTrainable_params}')"
   ]
  },
  {
   "cell_type": "code",
   "execution_count": 62,
   "id": "28aa9ffe",
   "metadata": {},
   "outputs": [],
   "source": [
    "def predict():\n",
    "    sentence=input(\"请输入测试句子：\")\n",
    "    if(sentence==\"end\"):\n",
    "        return False\n",
    "    sentence=jieba.lcut(sentence)\n",
    "    sentence_vector= torch.tensor([pad([vocab.get_stoi().get(word) for word in sentence])]*batch_size,device=device)\n",
    "\n",
    "    if isinstance(net, torch.nn.Module):\n",
    "        # 评估模式， 会关闭dropout\n",
    "        net.eval() \n",
    "        print(net(sentence_vector)[0])\n",
    "        sm=torch.nn.Softmax(dim=1)\n",
    "        print(sm(net(sentence_vector))[0])\n",
    "        predict_label=net(sentence_vector).argmax(dim=1)[0]\n",
    "\n",
    "        net.train() # 改回训练模式\n",
    "        \n",
    "        \n",
    "        if predict_label==1:\n",
    "            print(\"测试句子为正项\\n\")\n",
    "            return True\n",
    "            \n",
    "        else:\n",
    "            print(\"测试句子为负项\\n\")\n",
    "            return True\n"
   ]
  },
  {
   "cell_type": "code",
   "execution_count": 63,
   "id": "9321b867",
   "metadata": {},
   "outputs": [
    {
     "name": "stdout",
     "output_type": "stream",
     "text": [
      "请输入测试句子：这家店真难吃，下次不来了\n",
      "词表中未含有该词！\n",
      "请输入测试句子：这家太难吃，下次不会来了\n",
      "tensor([ 2.7921, -2.9442], device='cuda:0', grad_fn=<SelectBackward0>)\n",
      "tensor([0.9968, 0.0032], device='cuda:0', grad_fn=<SelectBackward0>)\n",
      "测试句子为负项\n",
      "\n",
      "请输入测试句子：这家店还不错哦，下次再来！\n",
      "tensor([-1.6935,  1.5981], device='cuda:0', grad_fn=<SelectBackward0>)\n",
      "tensor([0.0359, 0.9641], device='cuda:0', grad_fn=<SelectBackward0>)\n",
      "测试句子为正项\n",
      "\n",
      "请输入测试句子：感觉还不错呢！红烧茄子很好吃\n",
      "tensor([-0.3666,  0.3784], device='cuda:0', grad_fn=<SelectBackward0>)\n",
      "tensor([0.3219, 0.6781], device='cuda:0', grad_fn=<SelectBackward0>)\n",
      "测试句子为正项\n",
      "\n",
      "请输入测试句子：end\n"
     ]
    }
   ],
   "source": [
    "lock=True\n",
    "while(lock):\n",
    "    try:\n",
    "        lock=predict()\n",
    "    except RuntimeError:\n",
    "        print(\"词表中未含有该词！\")\n",
    "        lock=True"
   ]
  },
  {
   "cell_type": "code",
   "execution_count": null,
   "id": "d16a792e",
   "metadata": {},
   "outputs": [],
   "source": []
  }
 ],
 "metadata": {
  "kernelspec": {
   "display_name": "Python 3 (ipykernel)",
   "language": "python",
   "name": "python3"
  },
  "language_info": {
   "codemirror_mode": {
    "name": "ipython",
    "version": 3
   },
   "file_extension": ".py",
   "mimetype": "text/x-python",
   "name": "python",
   "nbconvert_exporter": "python",
   "pygments_lexer": "ipython3",
   "version": "3.9.7"
  }
 },
 "nbformat": 4,
 "nbformat_minor": 5
}
